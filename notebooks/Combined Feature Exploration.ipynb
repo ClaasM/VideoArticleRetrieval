{
 "cells": [
  {
   "cell_type": "markdown",
   "metadata": {},
   "source": [
    "Look at object detection rate weighed by topic"
   ]
  },
  {
   "cell_type": "code",
   "execution_count": 7,
   "metadata": {
    "scrolled": true
   },
   "outputs": [
    {
     "name": "stdout",
     "output_type": "stream",
     "text": [
      "The autoreload extension is already loaded. To reload it, use:\n",
      "  %reload_ext autoreload\n"
     ]
    }
   ],
   "source": [
    "from src.features.videos.objects import object as object_helper\n",
    "from src.models.lda import lda as lda_helper\n",
    "from src import constants\n",
    "from matplotlib import pyplot as plt\n",
    "\n",
    "import pandas as pd\n",
    "import numpy as np\n",
    "\n",
    "import psycopg2\n",
    "\n",
    "%load_ext autoreload\n",
    "%autoreload 2"
   ]
  },
  {
   "cell_type": "code",
   "execution_count": 8,
   "metadata": {
    "scrolled": true
   },
   "outputs": [],
   "source": [
    "# Get the detected objects and the topics\n",
    "object_occurence_rate = object_helper.divide_by_duration(object_helper.get_occurence_sum())\n",
    "object_occurence_rate.head()\n",
    "features_connection = psycopg2.connect(database=\"video_article_retrieval\", user=\"postgres\")\n",
    "average_topics = pd.read_sql(\"SELECT * FROM average_topics\", con=features_connection)"
   ]
  },
  {
   "cell_type": "code",
   "execution_count": 9,
   "metadata": {
    "scrolled": true
   },
   "outputs": [
    {
     "data": {
      "text/html": [
       "<div>\n",
       "<style scoped>\n",
       "    .dataframe tbody tr th:only-of-type {\n",
       "        vertical-align: middle;\n",
       "    }\n",
       "\n",
       "    .dataframe tbody tr th {\n",
       "        vertical-align: top;\n",
       "    }\n",
       "\n",
       "    .dataframe thead th {\n",
       "        text-align: right;\n",
       "    }\n",
       "</style>\n",
       "<table border=\"1\" class=\"dataframe\">\n",
       "  <thead>\n",
       "    <tr style=\"text-align: right;\">\n",
       "      <th></th>\n",
       "      <th>id</th>\n",
       "      <th>platform</th>\n",
       "      <th>topic_0</th>\n",
       "      <th>topic_1</th>\n",
       "      <th>topic_2</th>\n",
       "      <th>topic_3</th>\n",
       "      <th>topic_4</th>\n",
       "      <th>topic_5</th>\n",
       "      <th>topic_6</th>\n",
       "      <th>topic_7</th>\n",
       "      <th>...</th>\n",
       "      <th>sink</th>\n",
       "      <th>refrigerator</th>\n",
       "      <th>book</th>\n",
       "      <th>clock</th>\n",
       "      <th>vase</th>\n",
       "      <th>scissors</th>\n",
       "      <th>teddy_bear</th>\n",
       "      <th>hair_drier</th>\n",
       "      <th>toothbrush</th>\n",
       "      <th>duration</th>\n",
       "    </tr>\n",
       "  </thead>\n",
       "  <tbody>\n",
       "    <tr>\n",
       "      <th>0</th>\n",
       "      <td>wsbtv/10157004889480695</td>\n",
       "      <td>facebook</td>\n",
       "      <td>0.000000</td>\n",
       "      <td>0.653323</td>\n",
       "      <td>0.0</td>\n",
       "      <td>0.000</td>\n",
       "      <td>0.022118</td>\n",
       "      <td>0.000000</td>\n",
       "      <td>0.125464</td>\n",
       "      <td>0.000000</td>\n",
       "      <td>...</td>\n",
       "      <td>0.0</td>\n",
       "      <td>0.000000</td>\n",
       "      <td>0.000000</td>\n",
       "      <td>0.000000</td>\n",
       "      <td>0.0</td>\n",
       "      <td>0.0</td>\n",
       "      <td>0.0</td>\n",
       "      <td>0.0</td>\n",
       "      <td>0.0</td>\n",
       "      <td>236288</td>\n",
       "    </tr>\n",
       "    <tr>\n",
       "      <th>1</th>\n",
       "      <td>KHOU11/10157855122244062</td>\n",
       "      <td>facebook</td>\n",
       "      <td>0.002818</td>\n",
       "      <td>0.927415</td>\n",
       "      <td>0.0</td>\n",
       "      <td>0.000</td>\n",
       "      <td>0.000000</td>\n",
       "      <td>0.043440</td>\n",
       "      <td>0.005280</td>\n",
       "      <td>0.018187</td>\n",
       "      <td>...</td>\n",
       "      <td>0.0</td>\n",
       "      <td>0.000000</td>\n",
       "      <td>0.000000</td>\n",
       "      <td>0.000208</td>\n",
       "      <td>0.0</td>\n",
       "      <td>0.0</td>\n",
       "      <td>0.0</td>\n",
       "      <td>0.0</td>\n",
       "      <td>0.0</td>\n",
       "      <td>729216</td>\n",
       "    </tr>\n",
       "    <tr>\n",
       "      <th>2</th>\n",
       "      <td>100013660111371/486703935128273</td>\n",
       "      <td>facebook</td>\n",
       "      <td>0.000000</td>\n",
       "      <td>0.629809</td>\n",
       "      <td>0.0</td>\n",
       "      <td>0.051</td>\n",
       "      <td>0.211798</td>\n",
       "      <td>0.093693</td>\n",
       "      <td>0.012093</td>\n",
       "      <td>0.000000</td>\n",
       "      <td>...</td>\n",
       "      <td>0.0</td>\n",
       "      <td>0.000000</td>\n",
       "      <td>0.000000</td>\n",
       "      <td>0.000000</td>\n",
       "      <td>0.0</td>\n",
       "      <td>0.0</td>\n",
       "      <td>0.0</td>\n",
       "      <td>0.0</td>\n",
       "      <td>0.0</td>\n",
       "      <td>779904</td>\n",
       "    </tr>\n",
       "    <tr>\n",
       "      <th>3</th>\n",
       "      <td>1488021131510328/1994413240871112</td>\n",
       "      <td>facebook</td>\n",
       "      <td>0.000000</td>\n",
       "      <td>0.453624</td>\n",
       "      <td>0.0</td>\n",
       "      <td>0.000</td>\n",
       "      <td>0.000000</td>\n",
       "      <td>0.132679</td>\n",
       "      <td>0.366747</td>\n",
       "      <td>0.040566</td>\n",
       "      <td>...</td>\n",
       "      <td>0.0</td>\n",
       "      <td>0.000004</td>\n",
       "      <td>0.000000</td>\n",
       "      <td>0.000000</td>\n",
       "      <td>0.0</td>\n",
       "      <td>0.0</td>\n",
       "      <td>0.0</td>\n",
       "      <td>0.0</td>\n",
       "      <td>0.0</td>\n",
       "      <td>268051</td>\n",
       "    </tr>\n",
       "    <tr>\n",
       "      <th>4</th>\n",
       "      <td>ABC15/10155973576596359</td>\n",
       "      <td>facebook</td>\n",
       "      <td>0.000000</td>\n",
       "      <td>0.000000</td>\n",
       "      <td>0.0</td>\n",
       "      <td>0.000</td>\n",
       "      <td>0.000000</td>\n",
       "      <td>0.223820</td>\n",
       "      <td>0.428964</td>\n",
       "      <td>0.259963</td>\n",
       "      <td>...</td>\n",
       "      <td>0.0</td>\n",
       "      <td>0.000000</td>\n",
       "      <td>0.000054</td>\n",
       "      <td>0.000000</td>\n",
       "      <td>0.0</td>\n",
       "      <td>0.0</td>\n",
       "      <td>0.0</td>\n",
       "      <td>0.0</td>\n",
       "      <td>0.0</td>\n",
       "      <td>74153</td>\n",
       "    </tr>\n",
       "  </tbody>\n",
       "</table>\n",
       "<p>5 rows × 93 columns</p>\n",
       "</div>"
      ],
      "text/plain": [
       "                                  id  platform   topic_0   topic_1  topic_2  \\\n",
       "0            wsbtv/10157004889480695  facebook  0.000000  0.653323      0.0   \n",
       "1           KHOU11/10157855122244062  facebook  0.002818  0.927415      0.0   \n",
       "2    100013660111371/486703935128273  facebook  0.000000  0.629809      0.0   \n",
       "3  1488021131510328/1994413240871112  facebook  0.000000  0.453624      0.0   \n",
       "4            ABC15/10155973576596359  facebook  0.000000  0.000000      0.0   \n",
       "\n",
       "   topic_3   topic_4   topic_5   topic_6   topic_7    ...     sink  \\\n",
       "0    0.000  0.022118  0.000000  0.125464  0.000000    ...      0.0   \n",
       "1    0.000  0.000000  0.043440  0.005280  0.018187    ...      0.0   \n",
       "2    0.051  0.211798  0.093693  0.012093  0.000000    ...      0.0   \n",
       "3    0.000  0.000000  0.132679  0.366747  0.040566    ...      0.0   \n",
       "4    0.000  0.000000  0.223820  0.428964  0.259963    ...      0.0   \n",
       "\n",
       "   refrigerator      book     clock  vase  scissors  teddy_bear  hair_drier  \\\n",
       "0      0.000000  0.000000  0.000000   0.0       0.0         0.0         0.0   \n",
       "1      0.000000  0.000000  0.000208   0.0       0.0         0.0         0.0   \n",
       "2      0.000000  0.000000  0.000000   0.0       0.0         0.0         0.0   \n",
       "3      0.000004  0.000000  0.000000   0.0       0.0         0.0         0.0   \n",
       "4      0.000000  0.000054  0.000000   0.0       0.0         0.0         0.0   \n",
       "\n",
       "   toothbrush  duration  \n",
       "0         0.0    236288  \n",
       "1         0.0    729216  \n",
       "2         0.0    779904  \n",
       "3         0.0    268051  \n",
       "4         0.0     74153  \n",
       "\n",
       "[5 rows x 93 columns]"
      ]
     },
     "execution_count": 9,
     "metadata": {},
     "output_type": "execute_result"
    }
   ],
   "source": [
    "# Merge average topics and detected objects\n",
    "data = pd.merge(average_topics, object_occurence_rate,  how='right', left_on=['id','platform'], right_on = ['id','platform'])\n",
    "data.head()"
   ]
  },
  {
   "cell_type": "code",
   "execution_count": 24,
   "metadata": {
    "scrolled": true
   },
   "outputs": [],
   "source": [
    "from collections import defaultdict\n",
    "pd.set_option('display.max_colwidth', -1)\n",
    "pd.set_option('display.max_columns', None)\n",
    "pd.options.display.float_format = '{:,.3f}'.format\n",
    "\n",
    "topic_objects = defaultdict(lambda: defaultdict(int))\n",
    "\n",
    "topics = lda_helper.get_topic_columns(10)\n",
    "objects = [label.replace(\" \", \"_\") for label in constants.COCO_CLASS_NAMES]\n",
    "\n",
    "from sklearn.preprocessing import MinMaxScaler\n",
    "\n",
    "min_max_scaler = MinMaxScaler()\n",
    "\n",
    "for label in objects:\n",
    "    for topic in topics:\n",
    "        topic_objects[label][topic] = sum(data[label] * data[topic])\n",
    "\n",
    "df = pd.DataFrame(topic_objects)\n",
    "df = df.apply(lambda x: x/x.max(), axis=0)"
   ]
  },
  {
   "cell_type": "code",
   "execution_count": 16,
   "metadata": {
    "scrolled": true
   },
   "outputs": [
    {
     "data": {
      "image/png": "[encoded data removed]",
      "text/plain": [
       "<Figure size 1440x360 with 2 Axes>"
      ]
     },
     "metadata": {
      "needs_background": "light"
     },
     "output_type": "display_data"
    }
   ],
   "source": [
    "import seaborn\n",
    "\n",
    "fig, ax = plt.subplots(figsize=(20,5))\n",
    "seaborn.heatmap(ax=ax, data=df)\n",
    "pyplot.savefig(\"topic_objects_heatmap.pdf\")\n",
    "plt.show()"
   ]
  },
  {
   "cell_type": "code",
   "execution_count": 53,
   "metadata": {
    "scrolled": true
   },
   "outputs": [
    {
     "data": {
      "image/png": "[encoded data removed]",
      "text/plain": [
       "<Figure size 432x288 with 1 Axes>"
      ]
     },
     "metadata": {
      "needs_background": "light"
     },
     "output_type": "display_data"
    }
   ],
   "source": [
    "import random\n",
    "\n",
    "# Make predictions using the testing set\n",
    "x_col = \"person\" # random.choice(objects)\n",
    "y_col = \"topic_7\" # random.choice(topics)\n",
    "\n",
    "plt.scatter(data[x_col], data[y_col])\n",
    "\n",
    "from sklearn.linear_model import LinearRegression\n",
    "regr = LinearRegression()\n",
    "regr.fit(data[[x_col]].values, data[[y_col]])\n",
    "plt.plot(data[x_col], regr.predict(data[[x_col]]), color='orange')\n",
    "\n",
    "plt.show()"
   ]
  },
  {
   "cell_type": "code",
   "execution_count": 58,
   "metadata": {},
   "outputs": [
    {
     "name": "stdout",
     "output_type": "stream",
     "text": [
      "topic_0:\t0.07431 (+/- 0.0001)\n",
      "topic_1:\t0.07850 (+/- 0.0009)\n",
      "topic_2:\t0.10564 (+/- 0.0004)\n",
      "topic_3:\t0.13206 (+/- 0.0002)\n",
      "topic_4:\t0.11110 (+/- 0.0009)\n",
      "topic_5:\t0.08777 (+/- 0.0006)\n",
      "topic_6:\t0.08304 (+/- 0.0006)\n",
      "topic_7:\t0.06830 (+/- 0.0004)\n",
      "topic_8:\t0.06571 (+/- 0.0006)\n",
      "topic_9:\t0.10677 (+/- 0.0004)\n"
     ]
    }
   ],
   "source": [
    "# TODO plot density distributions of a single object for every topic\n",
    "label = \"person\"\n",
    "for topic in topics:\n",
    "    topic_prevalence = data[label] * data[topic] / sum(data[topic])\n",
    "    print(\"%s:\\t%.5f (+/- %.4f)\" % (topic, np.mean(normalized_topic_prevalence), np.std(data[label] * data[topic])))"
   ]
  },
  {
   "cell_type": "code",
   "execution_count": null,
   "metadata": {},
   "outputs": [],
   "source": []
  }
 ],
 "metadata": {
  "kernelspec": {
   "display_name": "Python 3",
   "language": "python",
   "name": "python3"
  },
  "language_info": {
   "codemirror_mode": {
    "name": "ipython",
    "version": 3
   },
   "file_extension": ".py",
   "mimetype": "text/x-python",
   "name": "python",
   "nbconvert_exporter": "python",
   "pygments_lexer": "ipython3",
   "version": "3.5.4"
  }
 },
 "nbformat": 4,
 "nbformat_minor": 2
}
