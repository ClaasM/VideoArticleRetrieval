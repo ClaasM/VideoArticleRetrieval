{
 "cells": [
  {
   "cell_type": "code",
   "execution_count": null,
   "metadata": {},
   "outputs": [],
   "source": [
    "# TODO from the topics table build visualizations\n",
    "# Like here: https://github.com/ClaasM/Bachelors-Thesis/blob/master/notebooks/topic_modeling/LDA.ipynb\n",
    "import matplotlib.pyplot as plt\n",
    "from matplotlib import rcParams\n",
    "\n",
    "labels, values = [], []\n",
    "for key in topic_frequency:\n",
    "    values.append(topic_frequency[key])\n",
    "    labels.append(\", \".join(dictionary[term_id] for (term_id, _) in lda.get_topic_terms(topicid=key, topn=5)))\n",
    "plt.pie(values, labels=labels, shadow=False, autopct='%1.1f%%', )\n",
    "plt.axis('equal')\n",
    "plt.savefig('topic_distribution.pdf', format=\"pdf\", bbox_inches='tight')\n",
    "plt.show()"
   ]
  }
 ],
 "metadata": {
  "kernelspec": {
   "display_name": "Python 3",
   "language": "python",
   "name": "python3"
  },
  "language_info": {
   "codemirror_mode": {
    "name": "ipython",
    "version": 3
   },
   "file_extension": ".py",
   "mimetype": "text/x-python",
   "name": "python",
   "nbconvert_exporter": "python",
   "pygments_lexer": "ipython3",
   "version": "3.5.4"
  }
 },
 "nbformat": 4,
 "nbformat_minor": 2
}
