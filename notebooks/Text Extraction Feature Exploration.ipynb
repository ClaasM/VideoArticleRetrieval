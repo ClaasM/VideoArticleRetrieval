{
 "cells": [
  {
   "cell_type": "code",
   "execution_count": 13,
   "metadata": {},
   "outputs": [
    {
     "name": "stdout",
     "output_type": "stream",
     "text": [
      "The autoreload extension is already loaded. To reload it, use:\n",
      "  %reload_ext autoreload\n"
     ]
    }
   ],
   "source": [
    "import pandas as pd\n",
    "import os\n",
    "import numpy as np\n",
    "from src import constants, util\n",
    "\n",
    "%load_ext autoreload\n",
    "%autoreload 2"
   ]
  },
  {
   "cell_type": "code",
   "execution_count": 14,
   "metadata": {},
   "outputs": [],
   "source": [
    "# Go through all articles and get the aspects we are interested in\n",
    "# This runs for a bit.\n",
    "features = list()\n",
    "\n",
    "text_base_path = os.environ[\"DATA_PATH\"] + \"/interim/articles_text/\"\n",
    "\n",
    "# TODO build an iterator in src/data/article_text.py (also for websites)\n",
    "for text_path, _, text_files in os.walk(text_base_path):\n",
    "    for text_file in text_files:\n",
    "        # We don't want any misc files like .DS_STORE\n",
    "        if text_file.endswith(\".gzip\"):\n",
    "            text_file_path = os.path.join(text_path, text_file)\n",
    "            text = util.load_gzip_text(text_file_path)\n",
    "            features.append(len(text))"
   ]
  },
  {
   "cell_type": "code",
   "execution_count": 15,
   "metadata": {},
   "outputs": [
    {
     "data": {
      "text/plain": [
       "220421"
      ]
     },
     "execution_count": 15,
     "metadata": {},
     "output_type": "execute_result"
    }
   ],
   "source": [
    "# Check if there are any articles that have length 0\n",
    "len(features)"
   ]
  },
  {
   "cell_type": "code",
   "execution_count": 16,
   "metadata": {},
   "outputs": [
    {
     "data": {
      "text/plain": [
       "4424.202562369284"
      ]
     },
     "execution_count": 16,
     "metadata": {},
     "output_type": "execute_result"
    }
   ],
   "source": [
    "np.average(features)"
   ]
  },
  {
   "cell_type": "code",
   "execution_count": 17,
   "metadata": {},
   "outputs": [
    {
     "data": {
      "text/plain": [
       "631"
      ]
     },
     "execution_count": 17,
     "metadata": {},
     "output_type": "execute_result"
    }
   ],
   "source": [
    "# Many are empty, which is bad\n",
    "len(list(filter(lambda x: x < 1, features)))"
   ]
  },
  {
   "cell_type": "code",
   "execution_count": 18,
   "metadata": {},
   "outputs": [
    {
     "data": {
      "text/plain": [
       "782"
      ]
     },
     "execution_count": 18,
     "metadata": {},
     "output_type": "execute_result"
    }
   ],
   "source": [
    "# But not many more have very little content, which is good\n",
    "len(list(filter(lambda x: x < 100, features)))"
   ]
  },
  {
   "cell_type": "code",
   "execution_count": 29,
   "metadata": {},
   "outputs": [
    {
     "data": {
      "image/png": "[encoded data removed]",
      "text/plain": [
       "<Figure size 432x288 with 1 Axes>"
      ]
     },
     "metadata": {
      "needs_background": "light"
     },
     "output_type": "display_data"
    }
   ],
   "source": [
    "import seaborn as sns\n",
    "import matplotlib.pyplot as plt\n",
    "\n",
    "f, ax = plt.subplots()\n",
    "features_cleaned = list(filter(lambda x: 0 < x < 20000, features))\n",
    "sns.kdeplot(data=features_cleaned, ax=ax, label=\"relevant\")\n",
    "plt.show()"
   ]
  },
  {
   "cell_type": "code",
   "execution_count": 28,
   "metadata": {},
   "outputs": [
    {
     "data": {
      "text/plain": [
       "5122"
      ]
     },
     "execution_count": 28,
     "metadata": {},
     "output_type": "execute_result"
    }
   ],
   "source": [
    "len(list(filter(lambda x: x > 20000, features)))"
   ]
  },
  {
   "cell_type": "code",
   "execution_count": 37,
   "metadata": {},
   "outputs": [
    {
     "name": "stdout",
     "output_type": "stream",
     "text": [
      "0\n",
      "/Volumes/DeskDrive/data//interim/articles_text/com/alcaudulloyour-daily-explore-360-vr-fix-nascar-in-vr-strategy-science-and-speed-at-sonoma-raceway.gzip\n"
     ]
    }
   ],
   "source": [
    "def test():\n",
    "    for text_path, _, text_files in os.walk(text_base_path):\n",
    "        for text_file in text_files:\n",
    "            # We don't want any misc files like .DS_STORE\n",
    "            if text_file.endswith(\".gzip\"):\n",
    "                text_file_path = os.path.join(text_path, text_file)\n",
    "                text = util.load_gzip_text(text_file_path)\n",
    "                if len(text) < 100:\n",
    "                    print(len(text))\n",
    "                    print(text_file_path)\n",
    "                    return\n",
    "test()"
   ]
  },
  {
   "cell_type": "code",
   "execution_count": null,
   "metadata": {},
   "outputs": [],
   "source": []
  }
 ],
 "metadata": {
  "kernelspec": {
   "display_name": "Python 3",
   "language": "python",
   "name": "python3"
  },
  "language_info": {
   "codemirror_mode": {
    "name": "ipython",
    "version": 3
   },
   "file_extension": ".py",
   "mimetype": "text/x-python",
   "name": "python",
   "nbconvert_exporter": "python",
   "pygments_lexer": "ipython3",
   "version": "3.5.4"
  }
 },
 "nbformat": 4,
 "nbformat_minor": 2
}
