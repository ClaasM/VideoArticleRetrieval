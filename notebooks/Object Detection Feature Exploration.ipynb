{
 "cells": [
  {
   "cell_type": "code",
   "execution_count": 17,
   "metadata": {},
   "outputs": [
    {
     "name": "stdout",
     "output_type": "stream",
     "text": [
      "The autoreload extension is already loaded. To reload it, use:\n",
      "  %reload_ext autoreload\n"
     ]
    }
   ],
   "source": [
    "from src.features.videos.objects import object as object_helper\n",
    "from src import constants\n",
    "import psycopg2\n",
    "\n",
    "%load_ext autoreload\n",
    "%autoreload 2"
   ]
  },
  {
   "cell_type": "code",
   "execution_count": 23,
   "metadata": {},
   "outputs": [],
   "source": [
    "# Get the sum of all detections per video with probability > 50%\n",
    "yolo_results = object_helper.get_probability_sum(model=\"yolo\")\n",
    "tiny_yolo_results = object_helper.get_probability_sum(model=\"tiny_yolo\")"
   ]
  },
  {
   "cell_type": "code",
   "execution_count": 24,
   "metadata": {},
   "outputs": [],
   "source": [
    "# Get the total number of seconds analyzed for each of the classifiers\n",
    "conn = psycopg2.connect(database=\"video_article_retrieval\", user=\"postgres\")\n",
    "c = conn.cursor()\n",
    "c.execute(\"SELECT count(DISTINCT (id, second)) FROM object_detection_yolo\")\n",
    "yolo_seconds, = c.fetchone()\n",
    "c.execute(\"SELECT count(DISTINCT (id, second)) FROM object_detection_tiny_yolo\")\n",
    "tiny_yolo_seconds, = c.fetchone()"
   ]
  },
  {
   "cell_type": "code",
   "execution_count": 29,
   "metadata": {},
   "outputs": [
    {
     "data": {
      "text/plain": [
       "(0.014044165305744611, 0.00221237208203292)"
      ]
     },
     "execution_count": 29,
     "metadata": {},
     "output_type": "execute_result"
    }
   ],
   "source": [
    "# Get rate of detections per second across all videos\n",
    "cols = [label.replace(\" \", \"_\") for label in constants.COCO_CLASS_NAMES]\n",
    "cols = [\"traffic_light\"]\n",
    "yolo_results[cols].sum().sum() / yolo_seconds, tiny_yolo_results[cols].sum().sum() / tiny_yolo_seconds"
   ]
  },
  {
   "cell_type": "code",
   "execution_count": null,
   "metadata": {},
   "outputs": [],
   "source": []
  }
 ],
 "metadata": {
  "kernelspec": {
   "display_name": "Python 3",
   "language": "python",
   "name": "python3"
  },
  "language_info": {
   "codemirror_mode": {
    "name": "ipython",
    "version": 3
   },
   "file_extension": ".py",
   "mimetype": "text/x-python",
   "name": "python",
   "nbconvert_exporter": "python",
   "pygments_lexer": "ipython3",
   "version": "3.5.4"
  }
 },
 "nbformat": 4,
 "nbformat_minor": 2
}
